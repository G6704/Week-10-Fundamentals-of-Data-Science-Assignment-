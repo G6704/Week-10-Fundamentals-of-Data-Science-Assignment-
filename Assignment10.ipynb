{
 "cells": [
  {
   "cell_type": "code",
   "execution_count": 66,
   "metadata": {},
   "outputs": [],
   "source": [
    "import pandas as pd\n",
    "from math import sqrt\n",
    "import numpy as np"
   ]
  },
  {
   "cell_type": "code",
   "execution_count": 67,
   "metadata": {},
   "outputs": [
    {
     "name": "stdout",
     "output_type": "stream",
     "text": [
      "<class 'pandas.core.frame.DataFrame'>\n",
      "RangeIndex: 12294 entries, 0 to 12293\n",
      "Data columns (total 7 columns):\n",
      " #   Column    Non-Null Count  Dtype  \n",
      "---  ------    --------------  -----  \n",
      " 0   anime_id  12294 non-null  int64  \n",
      " 1   name      12294 non-null  object \n",
      " 2   genre     12232 non-null  object \n",
      " 3   type      12269 non-null  object \n",
      " 4   episodes  12294 non-null  object \n",
      " 5   rating    12064 non-null  float64\n",
      " 6   members   12294 non-null  int64  \n",
      "dtypes: float64(1), int64(2), object(4)\n",
      "memory usage: 672.5+ KB\n",
      "None\n"
     ]
    }
   ],
   "source": [
    "animes_df = pd.read_csv('anime.csv')\n",
    "ratings_df = pd.read_csv('rating.csv')\n",
    "print(animes_df.info())"
   ]
  },
  {
   "cell_type": "code",
   "execution_count": 68,
   "metadata": {},
   "outputs": [
    {
     "data": {
      "text/html": [
       "<div>\n",
       "<style scoped>\n",
       "    .dataframe tbody tr th:only-of-type {\n",
       "        vertical-align: middle;\n",
       "    }\n",
       "\n",
       "    .dataframe tbody tr th {\n",
       "        vertical-align: top;\n",
       "    }\n",
       "\n",
       "    .dataframe thead th {\n",
       "        text-align: right;\n",
       "    }\n",
       "</style>\n",
       "<table border=\"1\" class=\"dataframe\">\n",
       "  <thead>\n",
       "    <tr style=\"text-align: right;\">\n",
       "      <th></th>\n",
       "      <th>anime_id</th>\n",
       "      <th>name</th>\n",
       "      <th>genre</th>\n",
       "      <th>type</th>\n",
       "      <th>episodes</th>\n",
       "      <th>rating</th>\n",
       "      <th>members</th>\n",
       "    </tr>\n",
       "  </thead>\n",
       "  <tbody>\n",
       "    <tr>\n",
       "      <th>0</th>\n",
       "      <td>32281</td>\n",
       "      <td>Kimi no Na wa.</td>\n",
       "      <td>Drama, Romance, School, Supernatural</td>\n",
       "      <td>Movie</td>\n",
       "      <td>1</td>\n",
       "      <td>9.37</td>\n",
       "      <td>200630</td>\n",
       "    </tr>\n",
       "    <tr>\n",
       "      <th>1</th>\n",
       "      <td>5114</td>\n",
       "      <td>Fullmetal Alchemist: Brotherhood</td>\n",
       "      <td>Action, Adventure, Drama, Fantasy, Magic, Mili...</td>\n",
       "      <td>TV</td>\n",
       "      <td>64</td>\n",
       "      <td>9.26</td>\n",
       "      <td>793665</td>\n",
       "    </tr>\n",
       "    <tr>\n",
       "      <th>2</th>\n",
       "      <td>28977</td>\n",
       "      <td>Gintama°</td>\n",
       "      <td>Action, Comedy, Historical, Parody, Samurai, S...</td>\n",
       "      <td>TV</td>\n",
       "      <td>51</td>\n",
       "      <td>9.25</td>\n",
       "      <td>114262</td>\n",
       "    </tr>\n",
       "    <tr>\n",
       "      <th>3</th>\n",
       "      <td>9253</td>\n",
       "      <td>Steins;Gate</td>\n",
       "      <td>Sci-Fi, Thriller</td>\n",
       "      <td>TV</td>\n",
       "      <td>24</td>\n",
       "      <td>9.17</td>\n",
       "      <td>673572</td>\n",
       "    </tr>\n",
       "    <tr>\n",
       "      <th>4</th>\n",
       "      <td>9969</td>\n",
       "      <td>Gintama&amp;#039;</td>\n",
       "      <td>Action, Comedy, Historical, Parody, Samurai, S...</td>\n",
       "      <td>TV</td>\n",
       "      <td>51</td>\n",
       "      <td>9.16</td>\n",
       "      <td>151266</td>\n",
       "    </tr>\n",
       "    <tr>\n",
       "      <th>...</th>\n",
       "      <td>...</td>\n",
       "      <td>...</td>\n",
       "      <td>...</td>\n",
       "      <td>...</td>\n",
       "      <td>...</td>\n",
       "      <td>...</td>\n",
       "      <td>...</td>\n",
       "    </tr>\n",
       "    <tr>\n",
       "      <th>12289</th>\n",
       "      <td>9316</td>\n",
       "      <td>Toushindai My Lover: Minami tai Mecha-Minami</td>\n",
       "      <td>Hentai</td>\n",
       "      <td>OVA</td>\n",
       "      <td>1</td>\n",
       "      <td>4.15</td>\n",
       "      <td>211</td>\n",
       "    </tr>\n",
       "    <tr>\n",
       "      <th>12290</th>\n",
       "      <td>5543</td>\n",
       "      <td>Under World</td>\n",
       "      <td>Hentai</td>\n",
       "      <td>OVA</td>\n",
       "      <td>1</td>\n",
       "      <td>4.28</td>\n",
       "      <td>183</td>\n",
       "    </tr>\n",
       "    <tr>\n",
       "      <th>12291</th>\n",
       "      <td>5621</td>\n",
       "      <td>Violence Gekiga David no Hoshi</td>\n",
       "      <td>Hentai</td>\n",
       "      <td>OVA</td>\n",
       "      <td>4</td>\n",
       "      <td>4.88</td>\n",
       "      <td>219</td>\n",
       "    </tr>\n",
       "    <tr>\n",
       "      <th>12292</th>\n",
       "      <td>6133</td>\n",
       "      <td>Violence Gekiga Shin David no Hoshi: Inma Dens...</td>\n",
       "      <td>Hentai</td>\n",
       "      <td>OVA</td>\n",
       "      <td>1</td>\n",
       "      <td>4.98</td>\n",
       "      <td>175</td>\n",
       "    </tr>\n",
       "    <tr>\n",
       "      <th>12293</th>\n",
       "      <td>26081</td>\n",
       "      <td>Yasuji no Pornorama: Yacchimae!!</td>\n",
       "      <td>Hentai</td>\n",
       "      <td>Movie</td>\n",
       "      <td>1</td>\n",
       "      <td>5.46</td>\n",
       "      <td>142</td>\n",
       "    </tr>\n",
       "  </tbody>\n",
       "</table>\n",
       "<p>12294 rows × 7 columns</p>\n",
       "</div>"
      ],
      "text/plain": [
       "       anime_id                                               name  \\\n",
       "0         32281                                     Kimi no Na wa.   \n",
       "1          5114                   Fullmetal Alchemist: Brotherhood   \n",
       "2         28977                                           Gintama°   \n",
       "3          9253                                        Steins;Gate   \n",
       "4          9969                                      Gintama&#039;   \n",
       "...         ...                                                ...   \n",
       "12289      9316       Toushindai My Lover: Minami tai Mecha-Minami   \n",
       "12290      5543                                        Under World   \n",
       "12291      5621                     Violence Gekiga David no Hoshi   \n",
       "12292      6133  Violence Gekiga Shin David no Hoshi: Inma Dens...   \n",
       "12293     26081                   Yasuji no Pornorama: Yacchimae!!   \n",
       "\n",
       "                                                   genre   type episodes  \\\n",
       "0                   Drama, Romance, School, Supernatural  Movie        1   \n",
       "1      Action, Adventure, Drama, Fantasy, Magic, Mili...     TV       64   \n",
       "2      Action, Comedy, Historical, Parody, Samurai, S...     TV       51   \n",
       "3                                       Sci-Fi, Thriller     TV       24   \n",
       "4      Action, Comedy, Historical, Parody, Samurai, S...     TV       51   \n",
       "...                                                  ...    ...      ...   \n",
       "12289                                             Hentai    OVA        1   \n",
       "12290                                             Hentai    OVA        1   \n",
       "12291                                             Hentai    OVA        4   \n",
       "12292                                             Hentai    OVA        1   \n",
       "12293                                             Hentai  Movie        1   \n",
       "\n",
       "       rating  members  \n",
       "0        9.37   200630  \n",
       "1        9.26   793665  \n",
       "2        9.25   114262  \n",
       "3        9.17   673572  \n",
       "4        9.16   151266  \n",
       "...       ...      ...  \n",
       "12289    4.15      211  \n",
       "12290    4.28      183  \n",
       "12291    4.88      219  \n",
       "12292    4.98      175  \n",
       "12293    5.46      142  \n",
       "\n",
       "[12294 rows x 7 columns]"
      ]
     },
     "execution_count": 68,
     "metadata": {},
     "output_type": "execute_result"
    }
   ],
   "source": [
    "animes_df"
   ]
  },
  {
   "cell_type": "code",
   "execution_count": 69,
   "metadata": {},
   "outputs": [
    {
     "name": "stdout",
     "output_type": "stream",
     "text": [
      "                               name  rating\n",
      "0                    Kimi no Na wa.    9.37\n",
      "1  Fullmetal Alchemist: Brotherhood    9.26\n",
      "2                       Steins;Gate    9.17\n",
      "3                       Under World    4.28\n",
      "4    Violence Gekiga David no Hoshi    4.98\n"
     ]
    }
   ],
   "source": [
    "userInput = [{'name':'Kimi no Na wa.', 'rating':9.37},\n",
    "             {'name':'Fullmetal Alchemist: Brotherhood', 'rating':9.26},\n",
    "             {'name':'Steins;Gate', 'rating':9.17},\n",
    "             {'name':'Under World', 'rating':4.28},\n",
    "             {'name':'Violence Gekiga David no Hoshi', 'rating':4.98}]\n",
    "inputAnimes = pd.DataFrame(userInput)\n",
    "print(inputAnimes)"
   ]
  },
  {
   "cell_type": "code",
   "execution_count": 70,
   "metadata": {},
   "outputs": [
    {
     "name": "stdout",
     "output_type": "stream",
     "text": [
      "   anime_id                              name  rating\n",
      "0     32281                    Kimi no Na wa.    9.37\n",
      "1      5114  Fullmetal Alchemist: Brotherhood    9.26\n",
      "2      9253                       Steins;Gate    9.17\n",
      "3      5543                       Under World    4.28\n"
     ]
    }
   ],
   "source": [
    "inputId = animes_df[animes_df['name'].isin(inputAnimes['name'].tolist())]\n",
    "inputAnimes = pd.merge(inputId, inputAnimes)\n",
    "inputAnimes = inputAnimes[['anime_id','name','rating']]\n",
    "print(inputAnimes)"
   ]
  },
  {
   "cell_type": "code",
   "execution_count": 71,
   "metadata": {},
   "outputs": [
    {
     "name": "stdout",
     "output_type": "stream",
     "text": [
      "          user_id  rating\n",
      "anime_id                 \n",
      "5114        24574   24574\n",
      "5543            4       4\n",
      "9253        19283   19283\n",
      "32281        2199    2199\n"
     ]
    }
   ],
   "source": [
    "userSubset = ratings_df[ratings_df['anime_id'].isin(inputAnimes['anime_id'].tolist())]\n",
    "print(userSubset.groupby('anime_id').count())"
   ]
  },
  {
   "cell_type": "code",
   "execution_count": 72,
   "metadata": {},
   "outputs": [
    {
     "name": "stdout",
     "output_type": "stream",
     "text": [
      "[((5114,),          user_id  anime_id  rating\n",
      "183            3      5114      10\n",
      "1165          10      5114      10\n",
      "1250          11      5114       8\n",
      "1295          12      5114       9\n",
      "1718          17      5114      10\n",
      "...          ...       ...     ...\n",
      "7811580    73499      5114      10\n",
      "7812050    73500      5114       9\n",
      "7813047    73504      5114      10\n",
      "7813249    73507      5114       9\n",
      "7813665    73515      5114      10\n",
      "\n",
      "[24574 rows x 3 columns]), ((9253,),          user_id  anime_id  rating\n",
      "516            5      9253       9\n",
      "1166          10      9253      -1\n",
      "1259          11      9253       7\n",
      "1301          12      9253      10\n",
      "1400          13      9253      -1\n",
      "...          ...       ...     ...\n",
      "7810408    73485      9253       6\n",
      "7811706    73499      9253      10\n",
      "7812523    73502      9253      10\n",
      "7812832    73503      9253       9\n",
      "7813697    73515      9253       9\n",
      "\n",
      "[19283 rows x 3 columns]), ((32281,),          user_id  anime_id  rating\n",
      "8271          99     32281       5\n",
      "11961        152     32281      10\n",
      "19665        244     32281      10\n",
      "22985        271     32281      10\n",
      "23382        278     32281      -1\n",
      "...          ...       ...     ...\n",
      "7758439    73042     32281       9\n",
      "7763841    73099     32281      10\n",
      "7764599    73109     32281       9\n",
      "7791788    73311     32281       7\n",
      "7792479    73319     32281       8\n",
      "\n",
      "[2199 rows x 3 columns]), ((5543,),          user_id  anime_id  rating\n",
      "4169803    39532      5543      -1\n",
      "5100462    48766      5543      -1\n",
      "5203100    49503      5543       4\n",
      "6275588    58483      5543       1)]\n"
     ]
    }
   ],
   "source": [
    "#Groupby creates several sub dataframes where they all have the same value in the column specified as the parameter\n",
    "userSubsetGroup = userSubset.groupby(['anime_id'])\n",
    "\n",
    "def take_5_elem(x):\n",
    "    # print (len(x[1]))\n",
    "    return len(x[1])\n",
    "    \n",
    "\n",
    "#Sorting it so users with movie most in common with the input will have priority\n",
    "userSubsetGroup = sorted(userSubsetGroup, key=take_5_elem, reverse=True)\n",
    "\n",
    "userSubsetGroup = userSubsetGroup[0:100]\n",
    "print(userSubsetGroup[0:5])"
   ]
  },
  {
   "cell_type": "code",
   "execution_count": 73,
   "metadata": {},
   "outputs": [],
   "source": [
    "#Store the Pearson Correlation in a dictionary, where the key is the user Id and the value is the coefficient\n",
    "pearsonCorrelationDict = {}\n",
    "\n",
    "#For every user group in our subset\n",
    "for name, group in userSubsetGroup:\n",
    "\n",
    "    #Let's start by sorting the input and current user group so the values aren't mixed up later on\n",
    "    group = group.sort_values(by='anime_id')\n",
    "    inputAnimes = inputAnimes.sort_values(by='anime_id')\n",
    "\n",
    "    #Get the N for the formula\n",
    "    nRatings = len(group)\n",
    "\n",
    "    #Get the review scores for the movies that they both have in common\n",
    "    temp_df = inputAnimes[inputAnimes['anime_id'].isin(group['anime_id'].tolist())]\n",
    "\n",
    "    #And then store them in a temporary buffer variable in a list format to facilitate future calculations\n",
    "    tempRatingList = temp_df['rating'].tolist()\n",
    "   \n",
    "    #Let's also put the current user group reviews in a list format\n",
    "    tempGroupList = group['rating'].tolist()\n",
    "   \n",
    "    \n",
    "    #Now let's calculate the pearson correlation between two users, so called, x and y manually (check the formula from week 7 slide)\n",
    "    Sxx = sum([i**2 for i in tempRatingList]) - pow(sum(tempRatingList),2)/float(nRatings)\n",
    "    Syy = sum([i**2 for i in tempGroupList]) - pow(sum(tempGroupList),2)/float(nRatings)\n",
    "    Sxy = sum( i*j for i, j in zip(tempRatingList, tempGroupList)) - sum(tempRatingList)*sum(tempGroupList)/float(nRatings)\n",
    "\n",
    "    #If the denominator is different than zero, then divide, else, 0 correlation.\n",
    "    if Sxx != 0 and Syy != 0:\n",
    "        pearsonCorrelationDict[name] = Sxy/sqrt(Sxx*Syy)\n",
    "    else:\n",
    "        pearsonCorrelationDict[name] = 0\n",
    "    "
   ]
  },
  {
   "cell_type": "code",
   "execution_count": 74,
   "metadata": {},
   "outputs": [
    {
     "name": "stdout",
     "output_type": "stream",
     "text": [
      "   similarityIndex   user_id\n",
      "0         0.003564   (5114,)\n",
      "1         0.001874   (9253,)\n",
      "2        -0.021030  (32281,)\n",
      "3        -0.493742   (5543,)\n"
     ]
    }
   ],
   "source": [
    "pearsonDF = pd.DataFrame.from_dict(pearsonCorrelationDict, orient='index')\n",
    "pearsonDF.columns = ['similarityIndex']\n",
    "pearsonDF['user_id'] = pearsonDF.index\n",
    "pearsonDF.index = range(len(pearsonDF))\n",
    "print(pearsonDF.head())"
   ]
  },
  {
   "cell_type": "code",
   "execution_count": 75,
   "metadata": {},
   "outputs": [
    {
     "name": "stdout",
     "output_type": "stream",
     "text": [
      "   similarityIndex   user_id\n",
      "0         0.003564   (5114,)\n",
      "1         0.001874   (9253,)\n",
      "2        -0.021030  (32281,)\n",
      "3        -0.493742   (5543,)\n"
     ]
    }
   ],
   "source": [
    "topUsers=pearsonDF.sort_values(by='similarityIndex', ascending=False)[0:50]\n",
    "print(topUsers.head())"
   ]
  },
  {
   "cell_type": "code",
   "execution_count": 76,
   "metadata": {},
   "outputs": [
    {
     "name": "stdout",
     "output_type": "stream",
     "text": [
      "    similarityIndex  user_id  anime_id  rating\n",
      "0          0.003564     5114        20       9\n",
      "1          0.003564     5114       121       9\n",
      "2          0.003564     5114       174       6\n",
      "3          0.003564     5114       205       9\n",
      "4          0.003564     5114       223       4\n",
      "..              ...      ...       ...     ...\n",
      "95        -0.493742     5543       356      10\n",
      "96        -0.493742     5543       357       7\n",
      "97        -0.493742     5543       376       8\n",
      "98        -0.493742     5543       403       9\n",
      "99        -0.493742     5543       430       9\n",
      "\n",
      "[100 rows x 4 columns]\n"
     ]
    }
   ],
   "source": [
    "# Datatypes were not compatable for doing \".merge\", so i had to change the type\n",
    "topUsers['user_id'] = topUsers['user_id'].astype(str).str.extract('(\\d+)').astype('int64')\n",
    "\n",
    "topUsersRating = pd.merge(topUsers, ratings_df, on='user_id', how='inner')\n",
    "print(topUsersRating.head(100))"
   ]
  },
  {
   "cell_type": "code",
   "execution_count": 77,
   "metadata": {},
   "outputs": [
    {
     "name": "stdout",
     "output_type": "stream",
     "text": [
      "   similarityIndex  user_id  anime_id  rating  weightedRating\n",
      "0         0.003564     5114        20       9        0.032074\n",
      "1         0.003564     5114       121       9        0.032074\n",
      "2         0.003564     5114       174       6        0.021383\n",
      "3         0.003564     5114       205       9        0.032074\n",
      "4         0.003564     5114       223       4        0.014255\n"
     ]
    }
   ],
   "source": [
    "#Multiplies the similarity by the user’s ratings\n",
    "topUsersRating['weightedRating'] = topUsersRating['similarityIndex']*topUsersRating['rating']\n",
    "print(topUsersRating.head())"
   ]
  },
  {
   "cell_type": "code",
   "execution_count": 78,
   "metadata": {},
   "outputs": [
    {
     "name": "stdout",
     "output_type": "stream",
     "text": [
      "          sum_similarityIndex  sum_weightedRating\n",
      "anime_id                                         \n",
      "1                   -0.493742           -4.937419\n",
      "5                   -0.493742           -4.443677\n",
      "6                   -0.493742           -4.937419\n",
      "20                  -0.490178           -4.905345\n",
      "27                  -0.493742           -4.937419\n"
     ]
    }
   ],
   "source": [
    "#Applies a sum to the topUsers after grouping it up by movieId\n",
    "tempTopUsersRating = topUsersRating.groupby('anime_id').sum()[['similarityIndex','weightedRating']]\n",
    "tempTopUsersRating.columns = ['sum_similarityIndex','sum_weightedRating']\n",
    "print(tempTopUsersRating.head())"
   ]
  },
  {
   "cell_type": "code",
   "execution_count": 79,
   "metadata": {},
   "outputs": [
    {
     "name": "stdout",
     "output_type": "stream",
     "text": [
      "          weighted average recommendation score  anime_id\n",
      "anime_id                                                 \n",
      "1                                      10.00000         1\n",
      "5                                       9.00000         5\n",
      "6                                      10.00000         6\n",
      "20                                     10.00727        20\n",
      "27                                     10.00000        27\n",
      "30                                      9.00000        30\n",
      "31                                     10.00000        31\n",
      "32                                     10.00000        32\n",
      "57                                      9.00000        57\n",
      "59                                      9.00000        59\n"
     ]
    }
   ],
   "source": [
    "#Creates an empty dataframe\n",
    "recommendation_df = pd.DataFrame()\n",
    "\n",
    "#Now we take the weighted average\n",
    "recommendation_df['weighted average recommendation score'] = tempTopUsersRating['sum_weightedRating']/tempTopUsersRating['sum_similarityIndex']\n",
    "recommendation_df['anime_id'] = tempTopUsersRating.index\n",
    "print(recommendation_df.head(10))"
   ]
  },
  {
   "cell_type": "code",
   "execution_count": 80,
   "metadata": {},
   "outputs": [
    {
     "name": "stdout",
     "output_type": "stream",
     "text": [
      "          weighted average recommendation score  anime_id\n",
      "anime_id                                                 \n",
      "1535                                  10.040463      1535\n",
      "205                                   10.007270       205\n",
      "20                                    10.007270        20\n",
      "121                                   10.007270       121\n",
      "4548                                  10.000000      4548\n",
      "...                                         ...       ...\n",
      "5530                                  -1.000000      5530\n",
      "18153                                 -1.000000     18153\n",
      "11979                                 -1.000000     11979\n",
      "10620                                 -1.000000     10620\n",
      "19815                                 -1.000000     19815\n",
      "\n",
      "[224 rows x 2 columns]\n"
     ]
    }
   ],
   "source": [
    "recommendation_df = recommendation_df.sort_values(by='weighted average recommendation score', ascending=False)\n",
    "print(recommendation_df)"
   ]
  },
  {
   "cell_type": "code",
   "execution_count": 81,
   "metadata": {},
   "outputs": [
    {
     "name": "stdout",
     "output_type": "stream",
     "text": [
      "      anime_id                                               name  \\\n",
      "13        2904                 Code Geass: Hangyaku no Lelouch R2   \n",
      "15         199                      Sen to Chihiro no Kamikakushi   \n",
      "19        1575                    Code Geass: Hangyaku no Lelouch   \n",
      "22           1                                       Cowboy Bebop   \n",
      "24         164                                      Mononoke Hime   \n",
      "...        ...                                                ...   \n",
      "7208       964                                      Hit wo Nerae!   \n",
      "7216      1741                             Hit wo Nerae! Specials   \n",
      "7694       765                   Chou Henshin Cosprayers Specials   \n",
      "7714       112                            Chou Henshin Cosprayers   \n",
      "7844       705  Chou Henshin Cosprayers vs. Ankoku Uchuu Shoug...   \n",
      "\n",
      "                                                  genre     type episodes  \\\n",
      "13    Action, Drama, Mecha, Military, Sci-Fi, Super ...       TV       25   \n",
      "15                       Adventure, Drama, Supernatural    Movie        1   \n",
      "19    Action, Mecha, Military, School, Sci-Fi, Super...       TV       25   \n",
      "22      Action, Adventure, Comedy, Drama, Sci-Fi, Space       TV       26   \n",
      "24                           Action, Adventure, Fantasy    Movie        1   \n",
      "...                                                 ...      ...      ...   \n",
      "7208                                      Comedy, Ecchi       TV        8   \n",
      "7216                                      Comedy, Ecchi  Special        4   \n",
      "7694                   Adventure, Comedy, Magic, Sci-Fi  Special        3   \n",
      "7714  Action, Adventure, Comedy, Ecchi, Fantasy, Mag...       TV        8   \n",
      "7844                   Adventure, Comedy, Magic, Sci-Fi    Movie        1   \n",
      "\n",
      "      rating  members  \n",
      "13      8.98   572888  \n",
      "15      8.93   466254  \n",
      "19      8.83   715151  \n",
      "22      8.82   486824  \n",
      "24      8.81   339556  \n",
      "...      ...      ...  \n",
      "7208    5.64     3772  \n",
      "7216    5.63     1016  \n",
      "7694    5.13     1480  \n",
      "7714    5.11     5555  \n",
      "7844    4.88     1650  \n",
      "\n",
      "[223 rows x 7 columns]\n"
     ]
    }
   ],
   "source": [
    "recommended_anime=animes_df.loc[animes_df['anime_id'].isin(recommendation_df['anime_id'])]\n",
    "\n",
    "#we don't want to recommend the same anime\n",
    "recommended_anime=recommended_anime.loc[~recommended_anime.anime_id.isin(userSubset['anime_id'])]\n",
    "\n",
    "print(recommended_anime)"
   ]
  }
 ],
 "metadata": {
  "kernelspec": {
   "display_name": "Python 3",
   "language": "python",
   "name": "python3"
  },
  "language_info": {
   "codemirror_mode": {
    "name": "ipython",
    "version": 3
   },
   "file_extension": ".py",
   "mimetype": "text/x-python",
   "name": "python",
   "nbconvert_exporter": "python",
   "pygments_lexer": "ipython3",
   "version": "3.11.0"
  },
  "orig_nbformat": 4
 },
 "nbformat": 4,
 "nbformat_minor": 2
}
